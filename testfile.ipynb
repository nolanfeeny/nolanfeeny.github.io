Hello this is a ipython notebook file.

I forget how to write sample code but will develop this trial more later
